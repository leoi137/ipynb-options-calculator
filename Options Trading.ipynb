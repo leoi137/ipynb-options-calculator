{
 "cells": [
  {
   "cell_type": "code",
   "execution_count": 2,
   "id": "4ff201f4",
   "metadata": {},
   "outputs": [],
   "source": [
    "import trading_formulas as tf"
   ]
  },
  {
   "cell_type": "markdown",
   "id": "cd0ecb1b",
   "metadata": {},
   "source": [
    "## Single Options"
   ]
  },
  {
   "cell_type": "code",
   "execution_count": 2,
   "id": "fa8c9b70",
   "metadata": {},
   "outputs": [
    {
     "name": "stdout",
     "output_type": "stream",
     "text": [
      "Price: $ 0.0341 - Stop: $ 0.0000 - Target: $ 0.4413\n",
      "Loss: $ 0.03 - Profit: $ 0.41\n",
      "----------------------------------------------\n",
      "Reward/Risk Ratio: 1193.76 %\n"
     ]
    }
   ],
   "source": [
    "# REV\n",
    "\n",
    "kind = 'Call'\n",
    "stop, spot, target = 3.9, 4.35, 9.5\n",
    "strike = 10\n",
    "expiration = '2022-11-18-13-00'\n",
    "expected_date = '2022-10-13-13-00'\n",
    "IV_now, IV_e = 0.6937, 0.54\n",
    "\n",
    "tf.get_reward_risk(kind, stop, spot, target, strike, expiration, IV_now, IV_e, expected_date)"
   ]
  },
  {
   "cell_type": "code",
   "execution_count": 4,
   "id": "bd3cfd71",
   "metadata": {},
   "outputs": [
    {
     "name": "stdout",
     "output_type": "stream",
     "text": [
      "Price: $ 0.2645 - Stop: $ 0.0058 - Target: $ 2.3810\n",
      "Loss: $ 0.26 - Profit: $ 2.12\n",
      "----------------------------------------------\n",
      "Reward/Risk Ratio: 818.15 %\n"
     ]
    }
   ],
   "source": [
    "# BYND\n",
    "\n",
    "kind = 'Call'\n",
    "stop, spot, target = 22.26, 25.26, 35\n",
    "strike = 35\n",
    "expiration = '2022-07-15-13-00'\n",
    "expected_date = '2022-07-03-13-00'\n",
    "IV_now, IV_e = 0.9375, 0.94\n",
    "tf.get_reward_risk(kind, stop, spot, target, strike, expiration, IV_now, IV_e, expected_date)"
   ]
  },
  {
   "cell_type": "code",
   "execution_count": 5,
   "id": "6056284f",
   "metadata": {},
   "outputs": [
    {
     "name": "stdout",
     "output_type": "stream",
     "text": [
      "Price: $ 0.2192 - Stop: $ 0.0058 - Target: $ 2.3810\n",
      "Loss: $ 0.21 - Profit: $ 2.16\n",
      "----------------------------------------------\n",
      "Reward/Risk Ratio: 1013.40 %\n"
     ]
    }
   ],
   "source": [
    "# BYND\n",
    "\n",
    "kind = 'Call'\n",
    "stop, spot, target = 22.26, 25.26, 35\n",
    "strike = 35\n",
    "expiration = '2022-07-15-13-00'\n",
    "expected_date = '2022-07-03-13-00'\n",
    "IV_now, IV_e = 0.9375, 0.94\n",
    "tf.get_reward_risk(kind, stop, spot, target, strike, expiration, IV_now, IV_e, expected_date)"
   ]
  },
  {
   "cell_type": "markdown",
   "id": "fef51cb0",
   "metadata": {},
   "source": [
    "## Option Spreads"
   ]
  },
  {
   "cell_type": "code",
   "execution_count": 4,
   "id": "1173dfb8",
   "metadata": {},
   "outputs": [
    {
     "name": "stdout",
     "output_type": "stream",
     "text": [
      "Stop Price: $ 0.0791\n",
      "Buy Price : $ 0.2189\n",
      "Target Price: $ 0.6641\n",
      "Reward: $ 44.5166 -- 318.34%\n",
      "Loss: $ 13.9841\n"
     ]
    }
   ],
   "source": [
    "# SPCE\n",
    "\n",
    "kind = 'Call'\n",
    "stop, spot, target = 6.25, 6.57, 8\n",
    "strike_buy, strike_sell = 7, 8\n",
    "expiration = '2022-06-10-13-00'\n",
    "expected_date = '2022-06-3-13-00'\n",
    "iv_buy, iv_sell = 0.93, 0.93\n",
    "\n",
    "tf.get_spread_option_prices(\n",
    "    kind=kind, spot=spot, stop=stop, target=target, \n",
    "    strike_buy=strike_buy, strike_sell=strike_sell, \n",
    "    expiration=expiration, IV_buy=iv_buy, IV_sell=iv_sell, \n",
    "    expected_date=expected_date\n",
    "    )"
   ]
  },
  {
   "cell_type": "code",
   "execution_count": 6,
   "id": "4e9cd3d1",
   "metadata": {},
   "outputs": [
    {
     "name": "stdout",
     "output_type": "stream",
     "text": [
      "Stop Price: $ 0.0006\n",
      "Buy Price : $ 0.6011\n",
      "Target Price: $ 2.1878\n",
      "Reward: $ 158.6696 -- 264.24%\n",
      "Loss: $ 60.0473\n"
     ]
    }
   ],
   "source": [
    "# LVS\n",
    "\n",
    "kind = 'Call'\n",
    "stop, spot, target = 31, 33.85, 38.85\n",
    "strike_buy, strike_sell = 36, 39\n",
    "expiration = '2022-06-17-13-00'\n",
    "expected_date = '2022-06-14-13-00'\n",
    "iv_buy, iv_sell = 0.5472, 0.5579\n",
    "\n",
    "tf.get_spread_option_prices(\n",
    "    kind=kind, spot=spot, stop=stop, target=target, \n",
    "    strike_buy=strike_buy, strike_sell=strike_sell, \n",
    "    expiration=expiration, IV_buy=iv_buy, IV_sell=iv_sell, \n",
    "    expected_date=expected_date\n",
    "    )"
   ]
  },
  {
   "cell_type": "code",
   "execution_count": 8,
   "id": "6d646f20",
   "metadata": {},
   "outputs": [
    {
     "name": "stdout",
     "output_type": "stream",
     "text": [
      "Stop Price: $ 0.0000\n",
      "Buy Price : $ 0.2666\n",
      "Target Price: $ 1.5749\n",
      "Reward: $ 130.8266 -- 490.66%\n",
      "Loss: $ 26.6632\n"
     ]
    }
   ],
   "source": [
    "# PLTR\n",
    "\n",
    "kind = 'Call'\n",
    "stop, spot, target = 7.30, 8.69, 11.19\n",
    "strike_buy, strike_sell = 9.5, 11.5\n",
    "expiration = '2022-06-24-13-00'\n",
    "expected_date = '2022-06-22-13-00'\n",
    "iv_buy, iv_sell = 0.69, 0.714\n",
    "\n",
    "tf.get_spread_option_prices(\n",
    "    kind=kind, spot=spot, stop=stop, target=target, \n",
    "    strike_buy=strike_buy, strike_sell=strike_sell, \n",
    "    expiration=expiration, IV_buy=iv_buy, IV_sell=iv_sell, \n",
    "    expected_date=expected_date\n",
    "    )"
   ]
  },
  {
   "cell_type": "code",
   "execution_count": 24,
   "id": "f75d05a9",
   "metadata": {},
   "outputs": [
    {
     "name": "stdout",
     "output_type": "stream",
     "text": [
      "Stop Price: $ 0.0000\n",
      "Buy Price : $ 0.4977\n",
      "Target Price: $ 1.6910\n",
      "Reward: $ 119.3342 -- 239.79%\n",
      "Loss: $ 49.7670\n"
     ]
    }
   ],
   "source": [
    "# INTC\n",
    "\n",
    "kind = 'Call'\n",
    "stop, spot, target = 40.69, 43.9, 48.8\n",
    "strike_buy, strike_sell = 47, 50\n",
    "expiration = '2022-07-15-13-00'\n",
    "expected_date = '2022-07-10-13-00'\n",
    "iv_buy, iv_sell = 0.292, 0.285\n",
    "\n",
    "tf.get_spread_option_prices(\n",
    "    kind=kind, spot=spot, stop=stop, target=target, \n",
    "    strike_buy=strike_buy, strike_sell=strike_sell, \n",
    "    expiration=expiration, IV_buy=iv_buy, IV_sell=iv_sell, \n",
    "    expected_date=expected_date\n",
    "    )"
   ]
  },
  {
   "cell_type": "code",
   "execution_count": null,
   "id": "d440ae37",
   "metadata": {},
   "outputs": [],
   "source": []
  }
 ],
 "metadata": {
  "interpreter": {
   "hash": "cd8e9ebfd7f2312fdba79165569d183c1d7fc237958cc27e45296708168f24eb"
  },
  "kernelspec": {
   "display_name": "Python 3.9.7",
   "language": "python",
   "name": "python3"
  },
  "language_info": {
   "codemirror_mode": {
    "name": "ipython",
    "version": 3
   },
   "file_extension": ".py",
   "mimetype": "text/x-python",
   "name": "python",
   "nbconvert_exporter": "python",
   "pygments_lexer": "ipython3",
   "version": "3.9.7"
  }
 },
 "nbformat": 4,
 "nbformat_minor": 5
}
